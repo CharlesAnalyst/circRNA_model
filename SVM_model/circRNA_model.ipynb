{
 "cells": [
  {
   "cell_type": "code",
   "execution_count": 2,
   "metadata": {},
   "outputs": [],
   "source": [
    "from sklearn import metrics\n",
    "from sklearn.svm import SVC\n",
    "from sklearn.metrics import classification_report, confusion_matrix, accuracy_score\n",
    "from sklearn.model_selection import  GridSearchCV\n",
    "from sklearn.preprocessing import StandardScaler"
   ]
  },
  {
   "cell_type": "code",
   "execution_count": 3,
   "metadata": {},
   "outputs": [],
   "source": [
    " def calculate_snsp(Y, Y_pred):\n",
    "    tp = len([i for i in range(len(Y)) if (Y[i] == 1) and (Y_pred[i] == 1)])\n",
    "    fn = len([i for i in range(len(Y)) if (Y[i] == 1) and (Y_pred[i] == 0)])\n",
    "    tn = len([i for i in range(len(Y)) if (Y[i] == 0) and (Y_pred[i] == 0)])\n",
    "    fp = len([i for i in range(len(Y)) if (Y[i] == 0) and (Y_pred[i] == 1)])\n",
    "    ####\n",
    "    print(\"tp:%d\\tfn:%d\\ttn:%d\\tfp:%d\" % (tp, fn, tn, fp))\n",
    "    sensitivity = tp / (tp + fn)\n",
    "    specificity = tn / (tn + fp)\n",
    "    accuracy = (tp+tn)/(tp+fn+tn+fp)\n",
    "    print(\"Sn: %.2f\" % sensitivity)\n",
    "    print(\"Sp: %.2f\" % specificity)\n",
    "    print(\"Accuracy: %.2f\" % accuracy)"
   ]
  },
  {
   "cell_type": "code",
   "execution_count": 86,
   "metadata": {},
   "outputs": [
    {
     "name": "stdout",
     "output_type": "stream",
     "text": [
      "9\n",
      "########################  test set\n",
      "tp:14\tfn:3\ttn:31\tfp:4\n",
      "Sn: 0.82\n",
      "Sp: 0.89\n",
      "Accuracy: 0.87\n",
      "AUC:0.86\n",
      "########################  training set\n",
      "tp:28\tfn:4\ttn:60\tfp:2\n",
      "Sn: 0.88\n",
      "Sp: 0.97\n",
      "Accuracy: 0.94\n",
      "AUC:0.97\n"
     ]
    },
    {
     "name": "stderr",
     "output_type": "stream",
     "text": [
      "/home/galaxy/anaconda3/lib/python3.7/site-packages/ipykernel_launcher.py:53: SettingWithCopyWarning: \n",
      "A value is trying to be set on a copy of a slice from a DataFrame.\n",
      "Try using .loc[row_indexer,col_indexer] = value instead\n",
      "\n",
      "See the caveats in the documentation: http://pandas.pydata.org/pandas-docs/stable/indexing.html#indexing-view-versus-copy\n"
     ]
    }
   ],
   "source": [
    "os.chdir(\"/home/galaxy/project/logistic_regression/new/\")\n",
    "\n",
    "#### read in file\n",
    "# df = pd.read_table(\"/home/galaxy/project/logistic_regression/new/LR_total_circRNA.txt\")\n",
    "df = pd.read_table(\"/home/galaxy/project/logistic_regression/new/LR_total.txt\")\n",
    "matrix_list, labelMat = [], []\n",
    "for class_n in [0,1]:\n",
    "    df_sub = df[df['Label'] == class_n]\n",
    "    labelMat += df_sub['Label'].tolist()\n",
    "    df_sub = df_sub.iloc[:, 1:]\n",
    "    matrix_list.append(df_sub.fillna(df_sub.mean()))\n",
    "dataMat = pd.concat(matrix_list)\n",
    "X,Y = dataMat, labelMat\n",
    "x_train, x_test, Y_train, Y_test = train_test_split(X, Y, test_size=0.35, stratify=Y)\n",
    "### select circRNA\n",
    "selected_circ = [x for x in X.columns if \"circ\" in x]\n",
    "selected_circ = [x for x in selected_circ if (x!=\"circRBM39\") & (x!=\"circSNRNP48\")]\n",
    "print(len(selected_circ))\n",
    "# selected_circ = ['circSTXBP3', 'circHP1BP3', 'circKIF5B', 'circDEK', 'circRBM39', 'circPARG', 'circHNRNPK', 'circSENP6', 'circCHD2']\n",
    "X_train, X_test = x_train[selected_circ], x_test[selected_circ]\n",
    "#### normalization\n",
    "## https://datascience.stackexchange.com/questions/27615/should-we-apply-normalization-to-test-data-as-well\n",
    "sc = StandardScaler()\n",
    "X_train_scaled = sc.fit_transform(X_train)\n",
    "X_test_scaled = sc.transform(X_test)\n",
    "\n",
    "#### preformance evaluation\n",
    "svclassifier = SVC(kernel='rbf', C=1, gamma=0.1, probability=True)\n",
    "svclassifier.fit(X_train_scaled, Y_train)\n",
    "# svclassifier.fit(X_train, Y_train)\n",
    "#### predict test set\n",
    "print(\"########################  test set\")\n",
    "y_pred = svclassifier.predict(X_test_scaled)\n",
    "# y_pred = svclassifier.predict(X_test)\n",
    "calculate_snsp(Y_test, y_pred)\n",
    "y_score = svclassifier.predict_proba(X_test_scaled)[:,1]\n",
    "fpr,tpr,threshold = metrics.roc_curve(Y_test, y_score)\n",
    "roc_auc = metrics.auc(fpr,tpr)\n",
    "print(\"AUC:%.2f\" % roc_auc)\n",
    "################################################\n",
    "#### predict training set\n",
    "print(\"########################  training set\")\n",
    "Y_pred = svclassifier.predict(X_train_scaled)\n",
    "# Y_pred = svclassifier.predict(X_train)\n",
    "calculate_snsp(Y_train, Y_pred)\n",
    "y_score = svclassifier.predict_proba(X_train_scaled)[:,1]\n",
    "fpr,tpr,threshold = metrics.roc_curve(Y_train, y_score)\n",
    "roc_auc = metrics.auc(fpr,tpr)\n",
    "print(\"AUC:%.2f\" % roc_auc)\n",
    "#### write to file\n",
    "result_dir = \"/home/galaxy/project/logistic_regression/new/\"\n",
    "t_train, t_test = x_train, x_test\n",
    "t_train['Label'], t_test['Label'] = Y_train, Y_test\n",
    "t_train.to_csv(os.path.join(result_dir, \"Training_set.txt\"), sep=\"\\t\", index=False)\n",
    "t_test.to_csv(os.path.join(result_dir, \"Test_set.txt\"), sep=\"\\t\", index=False)"
   ]
  }
 ],
 "metadata": {
  "kernelspec": {
   "display_name": "Python 3",
   "language": "python",
   "name": "python3"
  },
  "language_info": {
   "codemirror_mode": {
    "name": "ipython",
    "version": 3
   },
   "file_extension": ".py",
   "mimetype": "text/x-python",
   "name": "python",
   "nbconvert_exporter": "python",
   "pygments_lexer": "ipython3",
   "version": "3.7.2"
  }
 },
 "nbformat": 4,
 "nbformat_minor": 2
}

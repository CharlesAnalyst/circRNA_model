{
 "cells": [
  {
   "cell_type": "code",
   "execution_count": 1,
   "metadata": {},
   "outputs": [
    {
     "name": "stdout",
     "output_type": "stream",
     "text": [
      "SVC(C=1, cache_size=200, class_weight=None, coef0=0.0,\n",
      "  decision_function_shape='ovr', degree=3, gamma=0.1, kernel='rbf',\n",
      "  max_iter=-1, probability=False, random_state=None, shrinking=True,\n",
      "  tol=0.001, verbose=False)\n",
      "0.8461538461538461\n",
      "{'C': 1, 'gamma': 0.1, 'kernel': 'rbf'}\n",
      "             precision    recall  f1-score   support\n",
      "\n",
      "          0       0.84      1.00      0.91        26\n",
      "          1       1.00      0.62      0.76        13\n",
      "\n",
      "avg / total       0.89      0.87      0.86        39\n",
      "\n"
     ]
    }
   ],
   "source": [
    "from sklearn.svm import SVC\n",
    "from sklearn.preprocessing import StandardScaler\n",
    "from sklearn.metrics import classification_report, confusion_matrix, accuracy_score\n",
    "from sklearn.model_selection import  GridSearchCV\n",
    "\n",
    "os.chdir(\"/home/galaxy/project/logistic_regression/new/\")\n",
    "\n",
    "df = pd.read_table(\"/home/galaxy/project/logistic_regression/new/LR_total_circRNA.txt\")\n",
    "matrix_list, labelMat = [], []\n",
    "for class_n in [0,1]:\n",
    "    df_sub = df[df['Label'] == class_n]\n",
    "    labelMat += df_sub['Label'].tolist()\n",
    "    df_sub = df_sub.iloc[:, 1:]\n",
    "    matrix_list.append(df_sub.fillna(df_sub.mean()))\n",
    "dataMat = pd.concat(matrix_list)\n",
    "X,Y = dataMat, labelMat\n",
    "X_train, X_test, Y_train, Y_test = train_test_split(X, Y, test_size=0.3, stratify=Y)\n",
    "####\n",
    "sc = StandardScaler()\n",
    "X_train_scaled = sc.fit_transform(X_train)\n",
    "X_test_scaled = sc.transform(X_test)\n",
    "#### meta-estimator\n",
    "params = [{'kernel':['linear', 'rbf', 'poly', 'sigmoid'], 'C':[1, 10, 100, 1000],'gamma': [1, 0.1, 0.01, 0.001, 0.0001]}]\n",
    "scores = ['precision', 'recall', 'roc_auc'] \n",
    "gs = GridSearchCV(estimator=SVC(), param_grid=params, scoring=\"accuracy\", cv=5, refit=True)\n",
    "gs.fit(X_train, Y_train)\n",
    "print(gs.best_estimator_)\n",
    "print(gs.best_score_)\n",
    "print(gs.best_params_)\n",
    "\n",
    "gs_pred = gs.predict(X_test)\n",
    "print(classification_report(Y_test, gs_pred))"
   ]
  }
 ],
 "metadata": {
  "kernelspec": {
   "display_name": "Python 3",
   "language": "python",
   "name": "python3"
  },
  "language_info": {
   "codemirror_mode": {
    "name": "ipython",
    "version": 3
   },
   "file_extension": ".py",
   "mimetype": "text/x-python",
   "name": "python",
   "nbconvert_exporter": "python",
   "pygments_lexer": "ipython3",
   "version": "3.7.2"
  }
 },
 "nbformat": 4,
 "nbformat_minor": 2
}

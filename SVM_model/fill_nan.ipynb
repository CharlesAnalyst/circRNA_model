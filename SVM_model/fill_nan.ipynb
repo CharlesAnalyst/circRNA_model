{
 "cells": [
  {
   "cell_type": "code",
   "execution_count": 3,
   "metadata": {},
   "outputs": [
    {
     "name": "stdout",
     "output_type": "stream",
     "text": [
      "   circSTXBP3  circHP1BP3  circKIF5B   circDEK  circRBM39  circPARG  circHNRNPK  circSENP6  circCHD2\n",
      "0    0.097136    0.225527   0.188265  1.197939   7.221421  0.917935    1.104690   1.307654  0.696097\n",
      "1    0.345354    0.068935   0.004307  0.590296   3.263146  0.880542    1.167677   1.288217  0.406914\n",
      "2    0.050281    0.116740   0.092196  0.905229   0.388355  1.325434    1.369493   1.000000  0.308346\n",
      "3    0.007579    0.165096   0.004277  0.815353   0.713052  0.355141    1.697771   1.607525  0.704692\n",
      "4    0.097136    0.225527   0.188265  0.208153   3.389390  0.455797    1.794575   3.843907  0.808346\n"
     ]
    }
   ],
   "source": [
    "result_file = \"/home/galaxy/project/logistic_regression/new/LR_total_circRNA_fillna.txt\"\n",
    "df = pd.read_table(\"/home/galaxy/project/logistic_regression/new/LR_total_circRNA.txt\")\n",
    "matrix_list, labelMat = [], []\n",
    "for class_n in [0,1]:\n",
    "    df_sub = df[df['Label'] == class_n]\n",
    "    labelMat += df_sub['Label'].tolist()\n",
    "    df_sub = df_sub.iloc[:, 1:]\n",
    "    matrix_list.append(df_sub.fillna(df_sub.mean()))\n",
    "dataMat = pd.concat(matrix_list)\n",
    "print(dataMat.head())\n",
    "\n",
    "dataMat.to_csv(result_file, sep=\"\\t\")"
   ]
  }
 ],
 "metadata": {
  "kernelspec": {
   "display_name": "Python 3",
   "language": "python",
   "name": "python3"
  },
  "language_info": {
   "codemirror_mode": {
    "name": "ipython",
    "version": 3
   },
   "file_extension": ".py",
   "mimetype": "text/x-python",
   "name": "python",
   "nbconvert_exporter": "python",
   "pygments_lexer": "ipython3",
   "version": "3.7.2"
  }
 },
 "nbformat": 4,
 "nbformat_minor": 2
}

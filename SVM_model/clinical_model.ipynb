{
 "cells": [
  {
   "cell_type": "code",
   "execution_count": 2,
   "metadata": {},
   "outputs": [],
   "source": [
    "from sklearn.svm import SVC\n",
    "from sklearn.metrics import classification_report, confusion_matrix, accuracy_score\n",
    "from sklearn.model_selection import  GridSearchCV"
   ]
  },
  {
   "cell_type": "code",
   "execution_count": 3,
   "metadata": {},
   "outputs": [
    {
     "name": "stdout",
     "output_type": "stream",
     "text": [
      "[[18  8]\n",
      " [ 9  4]]\n",
      "             precision    recall  f1-score   support\n",
      "\n",
      "          0       0.67      0.69      0.68        26\n",
      "          1       0.33      0.31      0.32        13\n",
      "\n",
      "avg / total       0.56      0.56      0.56        39\n",
      "\n",
      "Accuracy: 0.5641025641025641\n"
     ]
    }
   ],
   "source": [
    "os.chdir(\"/home/galaxy/project/logistic_regression/new/\")\n",
    "\n",
    "clin_list = ['Age', 'Cesarean', 'abortion']\n",
    "df = pd.read_table(\"/home/galaxy/project/logistic_regression/new/LR_total.txt\")\n",
    "matrix_list, labelMat = [], []\n",
    "for class_n in [0,1]:\n",
    "    df_sub = df[df['Label'] == class_n]\n",
    "    labelMat += df_sub['Label'].tolist()\n",
    "    df_sub = df_sub.iloc[:, 1:]\n",
    "    matrix_list.append(df_sub.fillna(df_sub.mean()))\n",
    "dataMat = pd.concat(matrix_list)\n",
    "X = dataMat[clin_list]\n",
    "Y = labelMat  ####\n",
    "X_train, X_test, Y_train, Y_test = train_test_split(X, Y, test_size=0.3, stratify=Y)\n",
    "\n",
    "svclassifier = SVC(kernel='rbf', C=10, gamma=0.1)\n",
    "svclassifier.fit(X_train, Y_train)\n",
    "y_pred = svclassifier.predict(X_test)\n",
    "print(confusion_matrix(Y_test, y_pred))\n",
    "print(classification_report(Y_test, y_pred))\n",
    "print(\"Accuracy:\", accuracy_score(Y_test, y_pred))"
   ]
  }
 ],
 "metadata": {
  "kernelspec": {
   "display_name": "Python 3",
   "language": "python",
   "name": "python3"
  },
  "language_info": {
   "codemirror_mode": {
    "name": "ipython",
    "version": 3
   },
   "file_extension": ".py",
   "mimetype": "text/x-python",
   "name": "python",
   "nbconvert_exporter": "python",
   "pygments_lexer": "ipython3",
   "version": "3.7.2"
  }
 },
 "nbformat": 4,
 "nbformat_minor": 2
}

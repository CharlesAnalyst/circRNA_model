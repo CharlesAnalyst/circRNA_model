{
 "cells": [
  {
   "cell_type": "code",
   "execution_count": 1,
   "metadata": {},
   "outputs": [],
   "source": [
    "from sklearn.model_selection import train_test_split\n",
    "from sklearn.preprocessing import StandardScaler\n",
    "from sklearn.linear_model import LogisticRegression\n",
    "from sklearn import metrics\n",
    "from sklearn.metrics import confusion_matrix\n",
    "from sklearn.metrics import auc\n",
    "import seaborn as sns\n",
    "import matplotlib.pyplot as plt\n",
    "import pandas as pd\n",
    "import numpy as np\n",
    "from sklearn.linear_model import Ridge, RidgeCV, ElasticNet, LassoCV, LassoLarsCV\n",
    "from sklearn.model_selection import cross_val_score\n",
    "import matplotlib\n",
    "%matplotlib inline"
   ]
  },
  {
   "cell_type": "code",
   "execution_count": 11,
   "metadata": {},
   "outputs": [
    {
     "name": "stdout",
     "output_type": "stream",
     "text": [
      "     circSTXBP3  circHP1BP3  circKIF5B   circDEK  circEEA1  circRBM39  \\\n",
      "97     0.263550    3.864120   3.459040  1.925086  4.378548   2.080822   \n",
      "98     2.183650    1.780473   1.295944  1.154183  0.617295   0.124022   \n",
      "99     0.561029    2.130768   1.357395  1.345125  0.219195   0.309998   \n",
      "100    0.416430    4.645930   6.283274  0.588606  2.251273   4.322790   \n",
      "101    2.137960    2.726024   4.131435  0.500931  1.725996   2.701908   \n",
      "\n",
      "     circPARG  circHNRNPK  circSENP6  circCHD2  \n",
      "97   0.944605    0.176881   0.142145  1.033608  \n",
      "98   3.087554    1.135748   1.844997  1.551981  \n",
      "99   1.587178    0.759774   2.659024  1.723919  \n",
      "100  1.317816    0.459893   0.624251  1.851981  \n",
      "101  2.439295    4.388238   0.544897  0.468653  \n"
     ]
    }
   ],
   "source": [
    "# select 70% of dataset as trainning set; the remainning 30% was as test set;\n",
    "def loadDataSet():\n",
    "    # df = pd.read_table(\"/home/galaxy/project/logistic_regression/new/LR_total.txt\")\n",
    "    df = pd.read_table(\"/home/galaxy/project/logistic_regression/new/LR_total_circRNA.txt2\")\n",
    "    #\n",
    "    df_pa = df[df['Label'] == 1]\n",
    "    label_pa = df_pa['Label'].tolist()\n",
    "    df_pa = df_pa.iloc[:, 1:]\n",
    "    df_pa = df_pa.fillna(df_pa.mean())\n",
    "    # \n",
    "    df_con = df[df['Label'] == 0]\n",
    "    label_con = df_con['Label'].tolist()\n",
    "    df_con = df_con.iloc[:, 1:]\n",
    "    df_con = df_con.fillna(df_con.mean())\n",
    "    dataMat = pd.concat([df_pa,df_con])\n",
    "    print(dataMat.head())\n",
    "    labelMat = label_pa + label_con\n",
    "    return dataMat, labelMat\n",
    "\n",
    "X,Y = loadDataSet()\n",
    "X_train, X_test, Y_train, Y_test = train_test_split(X, Y, test_size=0.3, random_state=0)\n",
    "names = X_train.columns"
   ]
  },
  {
   "cell_type": "code",
   "execution_count": 12,
   "metadata": {},
   "outputs": [],
   "source": [
    "# Standard scale\n",
    "sc = StandardScaler()\n",
    "X_train = sc.fit_transform(X_train)\n",
    "X_test = sc.fit_transform(X_test)"
   ]
  },
  {
   "cell_type": "code",
   "execution_count": 13,
   "metadata": {},
   "outputs": [
    {
     "name": "stdout",
     "output_type": "stream",
     "text": [
      "      variate  frequency\n",
      "0  circHP1BP3      0.986\n",
      "5    circCHD2      0.984\n",
      "1   circKIF5B      0.952\n",
      "3    circPARG      0.908\n",
      "4  circHNRNPK      0.751\n",
      "2   circRBM39      0.749\n",
      "9   circSENP6      0.652\n",
      "7     circDEK      0.592\n",
      "8    circEEA1      0.487\n",
      "6  circSTXBP3      0.478\n"
     ]
    }
   ],
   "source": [
    "# bagging lasso for feture-selection\n",
    "from collections import Counter\n",
    "\n",
    "# df_train = pd.DataFrame(X_train)\n",
    "# df_train.index = Y_train\n",
    "# df_train.columns = names\n",
    "df = pd.DataFrame(X)\n",
    "df.index = Y\n",
    "df.columns = names\n",
    "#\n",
    "count_list = []\n",
    "for i in range(1000):\n",
    "#     df_i = df_train.sample(len(df_train), replace=True)\n",
    "    df_i = df.sample(len(df), replace=True)\n",
    "#     x_train_i, y_train_i = df_i.values, df_i.index\n",
    "    x_i, y_i = df_i.values, df_i.index\n",
    "#     model_lasso_i = LassoCV(alphas = [1, 0.1, 0.001, 0.0005]).fit(x_train_i, y_train_i)\n",
    "    model_lasso_i = LassoCV(alphas = [1, 0.1, 0.001, 0.0005]).fit(x_i, y_i)\n",
    "    coef_i = model_lasso_i.coef_\n",
    "    count_list += [names[j] for j in range(len(names)) if coef_i[j] != 0]\n",
    "count_dict = Counter(count_list)\n",
    "#for variant, number in count_dict.items():\n",
    "#    print(\"%s\\t%d\" % (variant, number))\n",
    "df = pd.DataFrame.from_dict(count_dict, orient='index').reset_index()\n",
    "df = df.rename(columns={'index':'variate', 0:'frequency'})\n",
    "df['frequency'] = df['frequency'] / 1000\n",
    "df = df.sort_values(['frequency'], ascending=False)\n",
    "print(df)\n",
    "# ax = df.plot.bar(x='variate', y='frequency', rot=90)"
   ]
  },
  {
   "cell_type": "code",
   "execution_count": 10,
   "metadata": {},
   "outputs": [
    {
     "data": {
      "image/png": "[encoded data removed]",
      "text/plain": [
       "<Figure size 576x432 with 1 Axes>"
      ]
     },
     "metadata": {
      "needs_background": "light"
     },
     "output_type": "display_data"
    }
   ],
   "source": [
    "# name_list = [\"4.12-3?\",\"4.28-5-2-2\",\"4.28-1-1-2\",\"4.28-4-2-2\",\"1230-2-1-3\",\"4.12-7?\",\"4.12-22?\",\"7.1-1??\",\"4.12-31?\",\"4.12-8?\",\"4.12-1?\",\"3.20-28?\"]\n",
    "# num_list = [0.91,0.74,0.614,0.603,0.386,0.359,0.353,0.334,0.333,0.332,0.329,0.329]\n",
    "\n",
    "f,ax = plt.subplots(figsize=(8,6))\n",
    "plt.bar(range(len(df)), df['frequency'], tick_label=df['variate'], color=\"royalblue\")\n",
    "plt.xticks(rotation=45)\n",
    "plt.ylabel('Resample model inclusion proportion \\n(RMIP)')\n",
    "plt.axhline(y=0.3, xmin=0, xmax=1, color='red')\n",
    "plt.show()\n",
    "#\n",
    "result_dir = \"/home/galaxy/project/logistic_regression/new/\"\n",
    "res = os.path.join(result_dir, \"RMIP.pdf\")\n",
    "f.savefig(res, bbox_inches='tight')"
   ]
  },
  {
   "cell_type": "code",
   "execution_count": null,
   "metadata": {},
   "outputs": [],
   "source": [
    "# model_lasso = LassoCV(alphas = [1, 0.1, 0.001, 0.0005]).fit(X_train, Y_train)\n",
    "# # rmse_cv(model_lasso).mean()\n",
    "# coef = pd.Series(model_lasso.coef_, index = names)\n",
    "# print(coef)\n",
    "# print(\"Lasso picked \" + str(sum(coef != 0)) + \" variables and eliminated the other \" +  str(sum(coef == 0)) + \" variables\")\n",
    "# #画出特征变量的重要程度，这里面选出前10个重要，后10个不重要的举例\n",
    "# imp_coef = pd.concat([coef.sort_values().head(17)]) # ,coef.sort_values().tail(10)\n",
    "# matplotlib.rcParams['figure.figsize'] = (8.0, 10.0)\n",
    "# imp_coef.plot(kind = \"barh\")\n",
    "# plt.title(\"Coefficients in the Lasso Model\")"
   ]
  },
  {
   "cell_type": "markdown",
   "metadata": {},
   "source": [
    "#### select feature based on iteration"
   ]
  },
  {
   "cell_type": "code",
   "execution_count": 3,
   "metadata": {},
   "outputs": [],
   "source": [
    "#### \n",
    "def loadDataSet():\n",
    "    df = pd.read_table(\"/home/galaxy/project/logistic_regression/new/LR_total.txt\")\n",
    "    df_pa = df[df['Label'] == 1]\n",
    "    label_pa = df_pa['Label'].tolist()\n",
    "    df_pa = df_pa.iloc[:, 1:-1]\n",
    "    df_pa = df_pa.fillna(df_pa.mean())\n",
    "    # \n",
    "    df_con = df[df['Label'] == 0]\n",
    "    label_con = df_con['Label'].tolist()\n",
    "    df_con = df_con.iloc[:, 1:-1]\n",
    "    df_con = df_con.fillna(df_con.mean())\n",
    "    dataMat = pd.concat([df_pa,df_con])\n",
    "    labelMat = label_pa + label_con\n",
    "    return dataMat, labelMat\n",
    "\n",
    "X,Y = loadDataSet()\n",
    "X_train, X_test, Y_train, Y_test = train_test_split(X, Y, test_size=0.3, stratify=Y) # 7:3"
   ]
  },
  {
   "cell_type": "code",
   "execution_count": 5,
   "metadata": {
    "scrolled": false
   },
   "outputs": [],
   "source": [
    "from itertools import combinations\n",
    "\n",
    "col_list = X_train.columns\n",
    "# for i in range(2, len(col_list)+1):\n",
    "output = sum([list(map(list, combinations(col_list, i))) for i in range(3, len(col_list) + 1)], []) # at least 4\n",
    "for x in output:\n",
    "    selected_circ = x\n",
    "    X_train_circ, X_test_circ = X_train[selected_circ], X_test[selected_circ]\n",
    "    circ_names = list(X_train_circ.columns)\n",
    "    print(circ_names)\n",
    "    # ####\n",
    "    # train_list = [X_train_circ[x] for x in circ_names] + [X_train_circ]   ###\n",
    "    #####\n",
    "    classfier = LogisticRegression()\n",
    "    sc = StandardScaler()\n",
    "    i_train = sc.fit_transform(X_train_circ)\n",
    "    i_test = sc.fit_transform(X_test_circ)\n",
    "    classfier.fit(i_train, Y_train) ###\n",
    "    ## \n",
    "    y_score = classfier.predict_proba(i_train)[:,1]\n",
    "    fpr,tpr,threshold = metrics.roc_curve(Y_train, y_score) ###\n",
    "    roc_auc_train = metrics.auc(fpr,tpr)\n",
    "    ##\n",
    "    y_score = classfier.predict_proba(i_test)[:,1]\n",
    "    fpr,tpr,threshold = metrics.roc_curve(Y_test, y_score) ###\n",
    "    roc_auc_test = metrics.auc(fpr,tpr)\n",
    "    print(roc_auc_train, roc_auc_test)\n",
    "    #\n",
    "    X_transform = sc.fit_transform(X[selected_circ])  # \n",
    "    Y_pred = classfier.predict(X_transform)\n",
    "    #\n",
    "    tp = len([i for i in range(len(Y)) if (Y[i] == 1) and (Y_pred[i] == 1)])\n",
    "    fn = len([i for i in range(len(Y)) if (Y[i] == 1) and (Y_pred[i] == 0)])\n",
    "    tn = len([i for i in range(len(Y)) if (Y[i] == 0) and (Y_pred[i] == 0)])\n",
    "    fp = len([i for i in range(len(Y)) if (Y[i] == 0) and (Y_pred[i] == 1)])\n",
    "    # print(tp, fn, tn, fp)\n",
    "    sensitivity = tp / (tp + fn)\n",
    "    specificity = tn / (tn + fp)\n",
    "    accuracy = (tp+tn)/(tp+fn+fp+tn)\n",
    "    print(sensitivity, specificity, accuracy)"
   ]
  },
  {
   "cell_type": "code",
   "execution_count": 8,
   "metadata": {},
   "outputs": [],
   "source": [
    "### format file\n",
    "os.chdir(\"/home/galaxy/project/logistic_regression/new\")\n",
    "with open(\"combination.txt\", 'r') as f:\n",
    "    with open(\"selected.txt\", 'w') as fw:\n",
    "        t = f.readlines()\n",
    "        for i in range(0, len(t), 3):\n",
    "            a = t[i]\n",
    "            b = (t[i+1])\n",
    "            c = (t[i+2])\n",
    "            b1 = float(b.split()[0])\n",
    "            b2 = float(b.split()[1])\n",
    "            if (\"ultrasound（PA）\" in a) and (\"Cesarean\" in a):\n",
    "                if (b1 > 0.82) and (b2 <= b1) and (float(c.split()[0].strip()) > 0.85):\n",
    "                    fw.write(a)\n",
    "                    fw.write(b)\n",
    "                    fw.write(c)"
   ]
  },
  {
   "cell_type": "code",
   "execution_count": 26,
   "metadata": {},
   "outputs": [],
   "source": [
    "### select circRNA\n",
    "from itertools import combinations\n",
    "\n",
    "col_list = X_train.columns\n",
    "col_list = [x for x in col_list if \"circ\" in x]\n",
    "output = sum([list(map(list, combinations(col_list, i))) for i in range(2, len(col_list) + 1)], []) # at least 2\n",
    "for x in output:\n",
    "    selected_circ = x\n",
    "#     selected_circ = ['circSTXBP3', 'circEEA1', 'circPARG', 'circDEK', 'circSENP6', 'circCHD2', 'circPSMD1']\n",
    "    X_train_circ, X_test_circ = X_train[selected_circ], X_test[selected_circ]\n",
    "    #####\n",
    "    classfier = LogisticRegression()\n",
    "    sc = StandardScaler()\n",
    "    i_train = sc.fit_transform(X_train_circ)\n",
    "    i_test = sc.fit_transform(X_test_circ)\n",
    "    classfier.fit(i_train, Y_train) ###\n",
    "    ## \n",
    "    y_score = classfier.predict_proba(i_train)[:,1]\n",
    "    fpr,tpr,threshold = metrics.roc_curve(Y_train, y_score) ###\n",
    "    roc_auc_train = metrics.auc(fpr,tpr)\n",
    "    if roc_auc_train > 0.79:\n",
    "        print(x)\n",
    "        print(roc_auc_train)\n",
    "#     print(roc_auc_train)\n",
    "#     break\n",
    "    ##\n",
    "#     y_score = classfier.predict_proba(i_test)[:,1]\n",
    "#     fpr,tpr,threshold = metrics.roc_curve(Y_test, y_score) ###\n",
    "#     roc_auc_test = metrics.auc(fpr,tpr)\n",
    "#     print(roc_auc_train, roc_auc_test)\n",
    "#     #\n",
    "#     X_transform = sc.fit_transform(X[selected_circ])  # \n",
    "#     Y_pred = classfier.predict(X_transform)\n",
    "#     #\n",
    "#     tp = len([i for i in range(len(Y)) if (Y[i] == 1) and (Y_pred[i] == 1)])\n",
    "#     fn = len([i for i in range(len(Y)) if (Y[i] == 1) and (Y_pred[i] == 0)])\n",
    "#     tn = len([i for i in range(len(Y)) if (Y[i] == 0) and (Y_pred[i] == 0)])\n",
    "#     fp = len([i for i in range(len(Y)) if (Y[i] == 0) and (Y_pred[i] == 1)])\n",
    "#     # print(tp, fn, tn, fp)\n",
    "#     sensitivity = tp / (tp + fn)\n",
    "#     specificity = tn / (tn + fp)\n",
    "#     accuracy = (tp+tn)/(tp+fn+fp+tn)\n",
    "#     print(sensitivity, specificity, accuracy)"
   ]
  }
 ],
 "metadata": {
  "kernelspec": {
   "display_name": "Python 3",
   "language": "python",
   "name": "python3"
  },
  "language_info": {
   "codemirror_mode": {
    "name": "ipython",
    "version": 3
   },
   "file_extension": ".py",
   "mimetype": "text/x-python",
   "name": "python",
   "nbconvert_exporter": "python",
   "pygments_lexer": "ipython3",
   "version": "3.7.2"
  }
 },
 "nbformat": 4,
 "nbformat_minor": 2
}

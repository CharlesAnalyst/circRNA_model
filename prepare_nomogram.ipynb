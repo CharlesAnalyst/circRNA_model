{
 "cells": [
  {
   "cell_type": "code",
   "execution_count": 3,
   "metadata": {},
   "outputs": [
    {
     "name": "stdout",
     "output_type": "stream",
     "text": [
      "   Label  circScore  clinScore  ultrasound  Sample  circSTXBP3  circHP1BP3  \\\n",
      "0      0  -3.444173  -0.801303           0       2    0.991335    0.068935   \n",
      "1      0  -2.779128   1.212877           0       3    1.760697    0.116740   \n",
      "2      0  -3.679756  -1.680130           0       4    0.940432    0.165096   \n",
      "3      0  -2.203424  -1.533473           0       5    2.108397    0.225527   \n",
      "4      0  -2.382963  -1.533473           0       6    0.557153    0.068935   \n",
      "\n",
      "   circKIF5B   circDEK  circSNRNP48  circEEA1  circRBM39  circPARG  \\\n",
      "0   0.004307  0.590296     0.009608  0.618881   3.263146  0.880542   \n",
      "1   0.092196  0.905229     0.209990  0.590059   0.388355  1.325434   \n",
      "2   0.004277  0.815353     0.329510  0.657011   0.713052  0.355141   \n",
      "3   0.188265  0.208153     0.079022  0.179347   3.389390  0.455797   \n",
      "4   0.004307  2.200670     0.009608  0.900550   1.000000  0.568650   \n",
      "\n",
      "   circHNRNPK  circSENP6  circCHD2  circPSMD1  Age  Cesarean  abortion  \n",
      "0    1.167677   1.288217  0.406914   1.331700   29         1         0  \n",
      "1    1.369493   1.000000  0.308346   1.330311   38         1         3  \n",
      "2    1.697771   1.607525  0.704692   1.224536   29         0         0  \n",
      "3    1.794575   3.843907  0.808346   3.832793   30         0         0  \n",
      "4    0.222759   1.409376  1.349128   0.719847   30         0         0  \n",
      "   Label  circScore  clinScore  ultrasound  Sample  circSTXBP3  circHP1BP3  \\\n",
      "0      1   7.636087  -1.161603           0     117   13.459877    2.602772   \n",
      "1      1   9.481346  -1.162828           0     109    1.371873    5.319805   \n",
      "2      0  -3.110389  -1.649148           0      40    0.940432    0.690341   \n",
      "3      0  -2.136384   2.198357           0      64    0.545687    0.507462   \n",
      "4      0  -1.259428  -0.455488           0      55    0.793414    1.275774   \n",
      "\n",
      "   circKIF5B   circDEK  circSNRNP48     ...       circRBM39  circPARG  \\\n",
      "0   0.176880  7.462248     1.078028     ...        1.718467  3.854287   \n",
      "1   4.289593  1.958976     3.806315     ...        5.458977  4.520443   \n",
      "2   1.416351  0.756619     0.739789     ...        1.438677  0.766557   \n",
      "3   0.966499  0.842080     0.971573     ...        0.285879  1.271441   \n",
      "4   1.275304  0.620470     1.422467     ...        1.371479  0.745595   \n",
      "\n",
      "   circHNRNPK  circSENP6  circCHD2  circPSMD1  Age  Cesarean  abortion  \\\n",
      "0    2.178963   2.460485  6.649838   2.270415   32         0         0   \n",
      "1    3.515285   9.048234  3.996023   4.211668   27         1         0   \n",
      "2    0.975113   0.042297  0.008533   0.583088   29         0         0   \n",
      "3    0.643335   0.747777  1.104365   1.179429   40         2         2   \n",
      "4    1.519547   2.033595  2.220827   1.546799   35         0         1   \n",
      "\n",
      "   Unnamed: 18  \n",
      "0          NaN  \n",
      "1          NaN  \n",
      "2          NaN  \n",
      "3          NaN  \n",
      "4          NaN  \n",
      "\n",
      "[5 rows x 21 columns]\n"
     ]
    }
   ],
   "source": [
    "os.chdir(\"/Charles/project/logistic_regression/new/\")\n",
    "train = [\"Training_circScore_clinScore.txt\", \"Training_set.txt\"]\n",
    "test = [\"Test_circScore_clinScore.txt\", \"Test_set.txt\"]\n",
    "sample_dict = {\"train\": train, \"test\": test}\n",
    "##\n",
    "def merge_two_file(data_type, file_1, file_2):\n",
    "    df_1, df_2 = pd.read_table(file_1, sep=\"\\t\"), pd.read_table(file_2, sep=\"\\t\")\n",
    "    df = df_1.merge(df_2, on=[\"Sample\",\"Label\",\"ultrasound\"])\n",
    "    print(df.head())\n",
    "    df.to_csv(\"nomogram_%s.txt\" % data_type, sep=\"\\t\", index=False)\n",
    "    \n",
    "for data_type, file_list in sample_dict.items():\n",
    "    merge_two_file(data_type, file_list[0], file_list[1])"
   ]
  },
  {
   "cell_type": "code",
   "execution_count": 6,
   "metadata": {},
   "outputs": [],
   "source": [
    "! head -1 nomogram_train.txt > nomogram_total.txt; \n",
    "! tail -n +2 -q nomogram_train.txt >> nomogram_total.txt\n",
    "! tail -n +2 -q nomogram_test.txt >> nomogram_total.txt"
   ]
  }
 ],
 "metadata": {
  "kernelspec": {
   "display_name": "Python 3",
   "language": "python",
   "name": "python3"
  },
  "language_info": {
   "codemirror_mode": {
    "name": "ipython",
    "version": 3
   },
   "file_extension": ".py",
   "mimetype": "text/x-python",
   "name": "python",
   "nbconvert_exporter": "python",
   "pygments_lexer": "ipython3",
   "version": "3.7.2"
  }
 },
 "nbformat": 4,
 "nbformat_minor": 2
}
